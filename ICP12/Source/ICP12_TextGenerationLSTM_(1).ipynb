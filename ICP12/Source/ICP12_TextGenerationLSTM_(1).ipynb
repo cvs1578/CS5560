{
  "nbformat": 4,
  "nbformat_minor": 0,
  "metadata": {
    "colab": {
      "name": "ICP12_TextGenerationLSTM (1).ipynb",
      "provenance": []
    },
    "kernelspec": {
      "name": "python3",
      "display_name": "Python 3"
    },
    "language_info": {
      "name": "python"
    },
    "accelerator": "GPU"
  },
  "cells": [
    {
      "cell_type": "code",
      "metadata": {
        "colab": {
          "base_uri": "https://localhost:8080/"
        },
        "id": "Vvo6KpuqNuOL",
        "outputId": "ba4f76b1-9222-42b7-98b7-259934b2f497"
      },
      "source": [
        "from google.colab import drive\n",
        "drive.mount('/content/drive')"
      ],
      "execution_count": 1,
      "outputs": [
        {
          "output_type": "stream",
          "text": [
            "Drive already mounted at /content/drive; to attempt to forcibly remount, call drive.mount(\"/content/drive\", force_remount=True).\n"
          ],
          "name": "stdout"
        }
      ]
    },
    {
      "cell_type": "markdown",
      "metadata": {
        "id": "slJv_my5DAdG"
      },
      "source": [
        "Let's start out by importing all the libraries we're going to use.\n",
        "\n",
        "We need numpy to transform our input data into arrays our network can use, and we'll obviously be using several functions from Keras.\n",
        "\n",
        "We'll also need to use some functions from the Natural Language Toolkit (NLTK) to preprocess our text and get it ready to train on. Finally, we'll need the sys library to handle the printing of our text."
      ]
    },
    {
      "cell_type": "code",
      "metadata": {
        "colab": {
          "base_uri": "https://localhost:8080/"
        },
        "id": "IF9-jJhR_BxM",
        "outputId": "589bbb95-fa98-415c-d85c-5b4074b49534"
      },
      "source": [
        "import numpy as np\n",
        "import pandas as pd\n",
        "import matplotlib.pyplot as plt\n",
        "from sympy import ifft\n",
        "#Everything below here was in the example and I'm too afriad to remove them\n",
        "import requests\n",
        "import sys\n",
        "import nltk\n",
        "nltk.download('stopwords')\n",
        "from nltk.tokenize import RegexpTokenizer\n",
        "from nltk.corpus import stopwords\n",
        "from keras.models import Sequential\n",
        "from keras.layers import Dense, Dropout, LSTM\n",
        "from keras.utils import np_utils\n",
        "from keras.callbacks import ModelCheckpoint\n",
        "from sklearn.preprocessing import MinMaxScaler"
      ],
      "execution_count": 2,
      "outputs": [
        {
          "output_type": "stream",
          "text": [
            "[nltk_data] Downloading package stopwords to /root/nltk_data...\n",
            "[nltk_data]   Package stopwords is already up-to-date!\n"
          ],
          "name": "stdout"
        }
      ]
    },
    {
      "cell_type": "markdown",
      "metadata": {
        "id": "i3XlznQ-DuBi"
      },
      "source": [
        "Lets verify the data is proprely read. "
      ]
    },
    {
      "cell_type": "code",
      "metadata": {
        "colab": {
          "base_uri": "https://localhost:8080/",
          "height": 419
        },
        "id": "w_aVhaOT_pxI",
        "outputId": "d7c061ba-adaf-4144-ff86-b84ff1bc3410"
      },
      "source": [
        "df = pd.read_csv(\"/content/drive/MyDrive/Colab Notebooks/ICP12/AAPL_2006-01-01_to_2018-01-01.csv\")\n",
        "df"
      ],
      "execution_count": 3,
      "outputs": [
        {
          "output_type": "execute_result",
          "data": {
            "text/html": [
              "<div>\n",
              "<style scoped>\n",
              "    .dataframe tbody tr th:only-of-type {\n",
              "        vertical-align: middle;\n",
              "    }\n",
              "\n",
              "    .dataframe tbody tr th {\n",
              "        vertical-align: top;\n",
              "    }\n",
              "\n",
              "    .dataframe thead th {\n",
              "        text-align: right;\n",
              "    }\n",
              "</style>\n",
              "<table border=\"1\" class=\"dataframe\">\n",
              "  <thead>\n",
              "    <tr style=\"text-align: right;\">\n",
              "      <th></th>\n",
              "      <th>Date</th>\n",
              "      <th>Open</th>\n",
              "      <th>High</th>\n",
              "      <th>Low</th>\n",
              "      <th>Close</th>\n",
              "      <th>Volume</th>\n",
              "      <th>Name</th>\n",
              "    </tr>\n",
              "  </thead>\n",
              "  <tbody>\n",
              "    <tr>\n",
              "      <th>0</th>\n",
              "      <td>2006-01-03</td>\n",
              "      <td>10.34</td>\n",
              "      <td>10.68</td>\n",
              "      <td>10.32</td>\n",
              "      <td>10.68</td>\n",
              "      <td>201853036</td>\n",
              "      <td>AAPL</td>\n",
              "    </tr>\n",
              "    <tr>\n",
              "      <th>1</th>\n",
              "      <td>2006-01-04</td>\n",
              "      <td>10.73</td>\n",
              "      <td>10.85</td>\n",
              "      <td>10.64</td>\n",
              "      <td>10.71</td>\n",
              "      <td>155225609</td>\n",
              "      <td>AAPL</td>\n",
              "    </tr>\n",
              "    <tr>\n",
              "      <th>2</th>\n",
              "      <td>2006-01-05</td>\n",
              "      <td>10.69</td>\n",
              "      <td>10.70</td>\n",
              "      <td>10.54</td>\n",
              "      <td>10.63</td>\n",
              "      <td>112396081</td>\n",
              "      <td>AAPL</td>\n",
              "    </tr>\n",
              "    <tr>\n",
              "      <th>3</th>\n",
              "      <td>2006-01-06</td>\n",
              "      <td>10.75</td>\n",
              "      <td>10.96</td>\n",
              "      <td>10.65</td>\n",
              "      <td>10.90</td>\n",
              "      <td>176139334</td>\n",
              "      <td>AAPL</td>\n",
              "    </tr>\n",
              "    <tr>\n",
              "      <th>4</th>\n",
              "      <td>2006-01-09</td>\n",
              "      <td>10.96</td>\n",
              "      <td>11.03</td>\n",
              "      <td>10.82</td>\n",
              "      <td>10.86</td>\n",
              "      <td>168861224</td>\n",
              "      <td>AAPL</td>\n",
              "    </tr>\n",
              "    <tr>\n",
              "      <th>...</th>\n",
              "      <td>...</td>\n",
              "      <td>...</td>\n",
              "      <td>...</td>\n",
              "      <td>...</td>\n",
              "      <td>...</td>\n",
              "      <td>...</td>\n",
              "      <td>...</td>\n",
              "    </tr>\n",
              "    <tr>\n",
              "      <th>3014</th>\n",
              "      <td>2017-12-22</td>\n",
              "      <td>174.68</td>\n",
              "      <td>175.42</td>\n",
              "      <td>174.50</td>\n",
              "      <td>175.01</td>\n",
              "      <td>16349444</td>\n",
              "      <td>AAPL</td>\n",
              "    </tr>\n",
              "    <tr>\n",
              "      <th>3015</th>\n",
              "      <td>2017-12-26</td>\n",
              "      <td>170.80</td>\n",
              "      <td>171.47</td>\n",
              "      <td>169.68</td>\n",
              "      <td>170.57</td>\n",
              "      <td>33185536</td>\n",
              "      <td>AAPL</td>\n",
              "    </tr>\n",
              "    <tr>\n",
              "      <th>3016</th>\n",
              "      <td>2017-12-27</td>\n",
              "      <td>170.10</td>\n",
              "      <td>170.78</td>\n",
              "      <td>169.71</td>\n",
              "      <td>170.60</td>\n",
              "      <td>21498213</td>\n",
              "      <td>AAPL</td>\n",
              "    </tr>\n",
              "    <tr>\n",
              "      <th>3017</th>\n",
              "      <td>2017-12-28</td>\n",
              "      <td>171.00</td>\n",
              "      <td>171.85</td>\n",
              "      <td>170.48</td>\n",
              "      <td>171.08</td>\n",
              "      <td>16480187</td>\n",
              "      <td>AAPL</td>\n",
              "    </tr>\n",
              "    <tr>\n",
              "      <th>3018</th>\n",
              "      <td>2017-12-29</td>\n",
              "      <td>170.52</td>\n",
              "      <td>170.59</td>\n",
              "      <td>169.22</td>\n",
              "      <td>169.23</td>\n",
              "      <td>25999922</td>\n",
              "      <td>AAPL</td>\n",
              "    </tr>\n",
              "  </tbody>\n",
              "</table>\n",
              "<p>3019 rows × 7 columns</p>\n",
              "</div>"
            ],
            "text/plain": [
              "            Date    Open    High     Low   Close     Volume  Name\n",
              "0     2006-01-03   10.34   10.68   10.32   10.68  201853036  AAPL\n",
              "1     2006-01-04   10.73   10.85   10.64   10.71  155225609  AAPL\n",
              "2     2006-01-05   10.69   10.70   10.54   10.63  112396081  AAPL\n",
              "3     2006-01-06   10.75   10.96   10.65   10.90  176139334  AAPL\n",
              "4     2006-01-09   10.96   11.03   10.82   10.86  168861224  AAPL\n",
              "...          ...     ...     ...     ...     ...        ...   ...\n",
              "3014  2017-12-22  174.68  175.42  174.50  175.01   16349444  AAPL\n",
              "3015  2017-12-26  170.80  171.47  169.68  170.57   33185536  AAPL\n",
              "3016  2017-12-27  170.10  170.78  169.71  170.60   21498213  AAPL\n",
              "3017  2017-12-28  171.00  171.85  170.48  171.08   16480187  AAPL\n",
              "3018  2017-12-29  170.52  170.59  169.22  169.23   25999922  AAPL\n",
              "\n",
              "[3019 rows x 7 columns]"
            ]
          },
          "metadata": {
            "tags": []
          },
          "execution_count": 3
        }
      ]
    },
    {
      "cell_type": "markdown",
      "metadata": {
        "id": "HS6LpcKBD811"
      },
      "source": [
        "Let's start by loading in our text data and doing some preprocessing of the data. For this data, we are only gonna care about the 'Close'.\n"
      ]
    },
    {
      "cell_type": "code",
      "metadata": {
        "id": "vuPYutWz_qqf",
        "colab": {
          "base_uri": "https://localhost:8080/",
          "height": 419
        },
        "outputId": "6e01b234-f63c-4fec-e7f8-0d64a14d3f59"
      },
      "source": [
        "data= df[['Close']]\n",
        "data"
      ],
      "execution_count": 4,
      "outputs": [
        {
          "output_type": "execute_result",
          "data": {
            "text/html": [
              "<div>\n",
              "<style scoped>\n",
              "    .dataframe tbody tr th:only-of-type {\n",
              "        vertical-align: middle;\n",
              "    }\n",
              "\n",
              "    .dataframe tbody tr th {\n",
              "        vertical-align: top;\n",
              "    }\n",
              "\n",
              "    .dataframe thead th {\n",
              "        text-align: right;\n",
              "    }\n",
              "</style>\n",
              "<table border=\"1\" class=\"dataframe\">\n",
              "  <thead>\n",
              "    <tr style=\"text-align: right;\">\n",
              "      <th></th>\n",
              "      <th>Close</th>\n",
              "    </tr>\n",
              "  </thead>\n",
              "  <tbody>\n",
              "    <tr>\n",
              "      <th>0</th>\n",
              "      <td>10.68</td>\n",
              "    </tr>\n",
              "    <tr>\n",
              "      <th>1</th>\n",
              "      <td>10.71</td>\n",
              "    </tr>\n",
              "    <tr>\n",
              "      <th>2</th>\n",
              "      <td>10.63</td>\n",
              "    </tr>\n",
              "    <tr>\n",
              "      <th>3</th>\n",
              "      <td>10.90</td>\n",
              "    </tr>\n",
              "    <tr>\n",
              "      <th>4</th>\n",
              "      <td>10.86</td>\n",
              "    </tr>\n",
              "    <tr>\n",
              "      <th>...</th>\n",
              "      <td>...</td>\n",
              "    </tr>\n",
              "    <tr>\n",
              "      <th>3014</th>\n",
              "      <td>175.01</td>\n",
              "    </tr>\n",
              "    <tr>\n",
              "      <th>3015</th>\n",
              "      <td>170.57</td>\n",
              "    </tr>\n",
              "    <tr>\n",
              "      <th>3016</th>\n",
              "      <td>170.60</td>\n",
              "    </tr>\n",
              "    <tr>\n",
              "      <th>3017</th>\n",
              "      <td>171.08</td>\n",
              "    </tr>\n",
              "    <tr>\n",
              "      <th>3018</th>\n",
              "      <td>169.23</td>\n",
              "    </tr>\n",
              "  </tbody>\n",
              "</table>\n",
              "<p>3019 rows × 1 columns</p>\n",
              "</div>"
            ],
            "text/plain": [
              "       Close\n",
              "0      10.68\n",
              "1      10.71\n",
              "2      10.63\n",
              "3      10.90\n",
              "4      10.86\n",
              "...      ...\n",
              "3014  175.01\n",
              "3015  170.57\n",
              "3016  170.60\n",
              "3017  171.08\n",
              "3018  169.23\n",
              "\n",
              "[3019 rows x 1 columns]"
            ]
          },
          "metadata": {
            "tags": []
          },
          "execution_count": 4
        }
      ]
    },
    {
      "cell_type": "markdown",
      "metadata": {
        "id": "cJYOOmIxGOc7"
      },
      "source": [
        "Separate into training and testing."
      ]
    },
    {
      "cell_type": "code",
      "metadata": {
        "id": "ngrbannIWnCt"
      },
      "source": [
        "training = data.iloc[:2900]\n",
        "test = data.iloc[2900:] #Only have 100 to test. More training = more accurate (theoretically)"
      ],
      "execution_count": 5,
      "outputs": []
    },
    {
      "cell_type": "code",
      "metadata": {
        "id": "YWbBhVAaGPaf"
      },
      "source": [
        "#Have to scale the data first because it won't work correctly without it\n",
        "scale = MinMaxScaler(feature_range=(0,1));\n",
        "training = scale.fit_transform(training);\n",
        "#Next we're putting in x(t) and y(t+1)\n",
        "X = []\n",
        "y = []\n",
        "for i in range (len(training)-1):\n",
        "  X.append(training[i])\n",
        "  y.append(training[i+1])"
      ],
      "execution_count": 6,
      "outputs": []
    },
    {
      "cell_type": "code",
      "metadata": {
        "colab": {
          "base_uri": "https://localhost:8080/"
        },
        "id": "zhW4lkRWcMtp",
        "outputId": "37aa0aa8-7520-439b-e390-c66895ab38f9"
      },
      "source": [
        "X = np.array(X)\n",
        "y = np.array(y)\n",
        "X = np.reshape(X, (X.shape[0],X.shape[1],1)) #Need to reshape for model to work\n",
        "X.shape"
      ],
      "execution_count": 7,
      "outputs": [
        {
          "output_type": "execute_result",
          "data": {
            "text/plain": [
              "(2899, 1, 1)"
            ]
          },
          "metadata": {
            "tags": []
          },
          "execution_count": 7
        }
      ]
    },
    {
      "cell_type": "code",
      "metadata": {
        "id": "mQWFxfaJGRD4"
      },
      "source": [
        "model = Sequential()\n",
        "model.add(LSTM(10, input_shape=(X.shape[1], 1), return_sequences=True))\n",
        "model.add(Dropout(0.2))\n",
        "model.add(LSTM(10, return_sequences=True))\n",
        "model.add(Dropout(0.2))\n",
        "model.add(LSTM(10))\n",
        "model.add(Dropout(0.2))"
      ],
      "execution_count": 8,
      "outputs": []
    },
    {
      "cell_type": "markdown",
      "metadata": {
        "id": "gLukcjelGRy4"
      },
      "source": [
        "We compile the model now, and it is ready for training:"
      ]
    },
    {
      "cell_type": "code",
      "metadata": {
        "id": "uSgz-LAqGSHg"
      },
      "source": [
        "model.compile(loss='mean_squared_error', optimizer='adam') \n",
        "#meansquarederror because examples I found online calculated the actual MSE and \n",
        "#this is easier"
      ],
      "execution_count": 9,
      "outputs": []
    },
    {
      "cell_type": "code",
      "metadata": {
        "id": "SGvSpUjTJbRd"
      },
      "source": [
        "desired_callbacks= ModelCheckpoint('model_saved_weights.h5', monitor='loss', verbose=1, save_best_only=True, mode='min')"
      ],
      "execution_count": 10,
      "outputs": []
    },
    {
      "cell_type": "markdown",
      "metadata": {
        "id": "Yh9pSQ4EH8k4"
      },
      "source": [
        "Now we'll fit the model and let it train"
      ]
    },
    {
      "cell_type": "code",
      "metadata": {
        "colab": {
          "base_uri": "https://localhost:8080/"
        },
        "id": "pMuINLtwH85J",
        "outputId": "6ac2dbfe-cf78-4650-8744-a0c35d74d0d7"
      },
      "source": [
        "model.fit(X, y, epochs=200, batch_size=256)"
      ],
      "execution_count": 11,
      "outputs": [
        {
          "output_type": "stream",
          "text": [
            "Epoch 1/200\n",
            "12/12 [==============================] - 6s 6ms/step - loss: 0.2021\n",
            "Epoch 2/200\n",
            "12/12 [==============================] - 0s 6ms/step - loss: 0.2010\n",
            "Epoch 3/200\n",
            "12/12 [==============================] - 0s 6ms/step - loss: 0.1998\n",
            "Epoch 4/200\n",
            "12/12 [==============================] - 0s 6ms/step - loss: 0.1908\n",
            "Epoch 5/200\n",
            "12/12 [==============================] - 0s 6ms/step - loss: 0.1961\n",
            "Epoch 6/200\n",
            "12/12 [==============================] - 0s 6ms/step - loss: 0.1839\n",
            "Epoch 7/200\n",
            "12/12 [==============================] - 0s 6ms/step - loss: 0.1809\n",
            "Epoch 8/200\n",
            "12/12 [==============================] - 0s 6ms/step - loss: 0.1751\n",
            "Epoch 9/200\n",
            "12/12 [==============================] - 0s 6ms/step - loss: 0.1639\n",
            "Epoch 10/200\n",
            "12/12 [==============================] - 0s 6ms/step - loss: 0.1570\n",
            "Epoch 11/200\n",
            "12/12 [==============================] - 0s 6ms/step - loss: 0.1399\n",
            "Epoch 12/200\n",
            "12/12 [==============================] - 0s 6ms/step - loss: 0.1268\n",
            "Epoch 13/200\n",
            "12/12 [==============================] - 0s 6ms/step - loss: 0.1080\n",
            "Epoch 14/200\n",
            "12/12 [==============================] - 0s 6ms/step - loss: 0.0920\n",
            "Epoch 15/200\n",
            "12/12 [==============================] - 0s 6ms/step - loss: 0.0860\n",
            "Epoch 16/200\n",
            "12/12 [==============================] - 0s 6ms/step - loss: 0.0798\n",
            "Epoch 17/200\n",
            "12/12 [==============================] - 0s 6ms/step - loss: 0.0798\n",
            "Epoch 18/200\n",
            "12/12 [==============================] - 0s 6ms/step - loss: 0.0788\n",
            "Epoch 19/200\n",
            "12/12 [==============================] - 0s 7ms/step - loss: 0.0763\n",
            "Epoch 20/200\n",
            "12/12 [==============================] - 0s 6ms/step - loss: 0.0716\n",
            "Epoch 21/200\n",
            "12/12 [==============================] - 0s 6ms/step - loss: 0.0726\n",
            "Epoch 22/200\n",
            "12/12 [==============================] - 0s 6ms/step - loss: 0.0688\n",
            "Epoch 23/200\n",
            "12/12 [==============================] - 0s 6ms/step - loss: 0.0680\n",
            "Epoch 24/200\n",
            "12/12 [==============================] - 0s 6ms/step - loss: 0.0650\n",
            "Epoch 25/200\n",
            "12/12 [==============================] - 0s 6ms/step - loss: 0.0609\n",
            "Epoch 26/200\n",
            "12/12 [==============================] - 0s 6ms/step - loss: 0.0608\n",
            "Epoch 27/200\n",
            "12/12 [==============================] - 0s 6ms/step - loss: 0.0587\n",
            "Epoch 28/200\n",
            "12/12 [==============================] - 0s 6ms/step - loss: 0.0568\n",
            "Epoch 29/200\n",
            "12/12 [==============================] - 0s 6ms/step - loss: 0.0558\n",
            "Epoch 30/200\n",
            "12/12 [==============================] - 0s 6ms/step - loss: 0.0544\n",
            "Epoch 31/200\n",
            "12/12 [==============================] - 0s 6ms/step - loss: 0.0540\n",
            "Epoch 32/200\n",
            "12/12 [==============================] - 0s 8ms/step - loss: 0.0485\n",
            "Epoch 33/200\n",
            "12/12 [==============================] - 0s 6ms/step - loss: 0.0506\n",
            "Epoch 34/200\n",
            "12/12 [==============================] - 0s 6ms/step - loss: 0.0483\n",
            "Epoch 35/200\n",
            "12/12 [==============================] - 0s 6ms/step - loss: 0.0477\n",
            "Epoch 36/200\n",
            "12/12 [==============================] - 0s 6ms/step - loss: 0.0474\n",
            "Epoch 37/200\n",
            "12/12 [==============================] - 0s 6ms/step - loss: 0.0464\n",
            "Epoch 38/200\n",
            "12/12 [==============================] - 0s 6ms/step - loss: 0.0483\n",
            "Epoch 39/200\n",
            "12/12 [==============================] - 0s 5ms/step - loss: 0.0478\n",
            "Epoch 40/200\n",
            "12/12 [==============================] - 0s 6ms/step - loss: 0.0464\n",
            "Epoch 41/200\n",
            "12/12 [==============================] - 0s 6ms/step - loss: 0.0437\n",
            "Epoch 42/200\n",
            "12/12 [==============================] - 0s 6ms/step - loss: 0.0448\n",
            "Epoch 43/200\n",
            "12/12 [==============================] - 0s 6ms/step - loss: 0.0479\n",
            "Epoch 44/200\n",
            "12/12 [==============================] - 0s 6ms/step - loss: 0.0455\n",
            "Epoch 45/200\n",
            "12/12 [==============================] - 0s 6ms/step - loss: 0.0476\n",
            "Epoch 46/200\n",
            "12/12 [==============================] - 0s 6ms/step - loss: 0.0468\n",
            "Epoch 47/200\n",
            "12/12 [==============================] - 0s 6ms/step - loss: 0.0436\n",
            "Epoch 48/200\n",
            "12/12 [==============================] - 0s 6ms/step - loss: 0.0453\n",
            "Epoch 49/200\n",
            "12/12 [==============================] - 0s 6ms/step - loss: 0.0477\n",
            "Epoch 50/200\n",
            "12/12 [==============================] - 0s 6ms/step - loss: 0.0443\n",
            "Epoch 51/200\n",
            "12/12 [==============================] - 0s 6ms/step - loss: 0.0428\n",
            "Epoch 52/200\n",
            "12/12 [==============================] - 0s 6ms/step - loss: 0.0464\n",
            "Epoch 53/200\n",
            "12/12 [==============================] - 0s 6ms/step - loss: 0.0447\n",
            "Epoch 54/200\n",
            "12/12 [==============================] - 0s 5ms/step - loss: 0.0438\n",
            "Epoch 55/200\n",
            "12/12 [==============================] - 0s 6ms/step - loss: 0.0454\n",
            "Epoch 56/200\n",
            "12/12 [==============================] - 0s 6ms/step - loss: 0.0434\n",
            "Epoch 57/200\n",
            "12/12 [==============================] - 0s 6ms/step - loss: 0.0435\n",
            "Epoch 58/200\n",
            "12/12 [==============================] - 0s 6ms/step - loss: 0.0439\n",
            "Epoch 59/200\n",
            "12/12 [==============================] - 0s 6ms/step - loss: 0.0439\n",
            "Epoch 60/200\n",
            "12/12 [==============================] - 0s 6ms/step - loss: 0.0458\n",
            "Epoch 61/200\n",
            "12/12 [==============================] - 0s 6ms/step - loss: 0.0453\n",
            "Epoch 62/200\n",
            "12/12 [==============================] - 0s 6ms/step - loss: 0.0440\n",
            "Epoch 63/200\n",
            "12/12 [==============================] - 0s 6ms/step - loss: 0.0459\n",
            "Epoch 64/200\n",
            "12/12 [==============================] - 0s 6ms/step - loss: 0.0461\n",
            "Epoch 65/200\n",
            "12/12 [==============================] - 0s 6ms/step - loss: 0.0434\n",
            "Epoch 66/200\n",
            "12/12 [==============================] - 0s 6ms/step - loss: 0.0446\n",
            "Epoch 67/200\n",
            "12/12 [==============================] - 0s 6ms/step - loss: 0.0450\n",
            "Epoch 68/200\n",
            "12/12 [==============================] - 0s 6ms/step - loss: 0.0462\n",
            "Epoch 69/200\n",
            "12/12 [==============================] - 0s 6ms/step - loss: 0.0438\n",
            "Epoch 70/200\n",
            "12/12 [==============================] - 0s 6ms/step - loss: 0.0444\n",
            "Epoch 71/200\n",
            "12/12 [==============================] - 0s 6ms/step - loss: 0.0452\n",
            "Epoch 72/200\n",
            "12/12 [==============================] - 0s 6ms/step - loss: 0.0432\n",
            "Epoch 73/200\n",
            "12/12 [==============================] - 0s 6ms/step - loss: 0.0421\n",
            "Epoch 74/200\n",
            "12/12 [==============================] - 0s 6ms/step - loss: 0.0444\n",
            "Epoch 75/200\n",
            "12/12 [==============================] - 0s 6ms/step - loss: 0.0453\n",
            "Epoch 76/200\n",
            "12/12 [==============================] - 0s 6ms/step - loss: 0.0431\n",
            "Epoch 77/200\n",
            "12/12 [==============================] - 0s 6ms/step - loss: 0.0445\n",
            "Epoch 78/200\n",
            "12/12 [==============================] - 0s 7ms/step - loss: 0.0431\n",
            "Epoch 79/200\n",
            "12/12 [==============================] - 0s 6ms/step - loss: 0.0442\n",
            "Epoch 80/200\n",
            "12/12 [==============================] - 0s 6ms/step - loss: 0.0443\n",
            "Epoch 81/200\n",
            "12/12 [==============================] - 0s 6ms/step - loss: 0.0432\n",
            "Epoch 82/200\n",
            "12/12 [==============================] - 0s 6ms/step - loss: 0.0445\n",
            "Epoch 83/200\n",
            "12/12 [==============================] - 0s 6ms/step - loss: 0.0446\n",
            "Epoch 84/200\n",
            "12/12 [==============================] - 0s 6ms/step - loss: 0.0419\n",
            "Epoch 85/200\n",
            "12/12 [==============================] - 0s 6ms/step - loss: 0.0421\n",
            "Epoch 86/200\n",
            "12/12 [==============================] - 0s 7ms/step - loss: 0.0443\n",
            "Epoch 87/200\n",
            "12/12 [==============================] - 0s 6ms/step - loss: 0.0446\n",
            "Epoch 88/200\n",
            "12/12 [==============================] - 0s 6ms/step - loss: 0.0439\n",
            "Epoch 89/200\n",
            "12/12 [==============================] - 0s 6ms/step - loss: 0.0444\n",
            "Epoch 90/200\n",
            "12/12 [==============================] - 0s 6ms/step - loss: 0.0428\n",
            "Epoch 91/200\n",
            "12/12 [==============================] - 0s 6ms/step - loss: 0.0440\n",
            "Epoch 92/200\n",
            "12/12 [==============================] - 0s 6ms/step - loss: 0.0442\n",
            "Epoch 93/200\n",
            "12/12 [==============================] - 0s 6ms/step - loss: 0.0446\n",
            "Epoch 94/200\n",
            "12/12 [==============================] - 0s 6ms/step - loss: 0.0442\n",
            "Epoch 95/200\n",
            "12/12 [==============================] - 0s 6ms/step - loss: 0.0427\n",
            "Epoch 96/200\n",
            "12/12 [==============================] - 0s 6ms/step - loss: 0.0438\n",
            "Epoch 97/200\n",
            "12/12 [==============================] - 0s 7ms/step - loss: 0.0426\n",
            "Epoch 98/200\n",
            "12/12 [==============================] - 0s 6ms/step - loss: 0.0450\n",
            "Epoch 99/200\n",
            "12/12 [==============================] - 0s 6ms/step - loss: 0.0457\n",
            "Epoch 100/200\n",
            "12/12 [==============================] - 0s 6ms/step - loss: 0.0429\n",
            "Epoch 101/200\n",
            "12/12 [==============================] - 0s 6ms/step - loss: 0.0446\n",
            "Epoch 102/200\n",
            "12/12 [==============================] - 0s 6ms/step - loss: 0.0445\n",
            "Epoch 103/200\n",
            "12/12 [==============================] - 0s 6ms/step - loss: 0.0436\n",
            "Epoch 104/200\n",
            "12/12 [==============================] - 0s 6ms/step - loss: 0.0460\n",
            "Epoch 105/200\n",
            "12/12 [==============================] - 0s 6ms/step - loss: 0.0450\n",
            "Epoch 106/200\n",
            "12/12 [==============================] - 0s 6ms/step - loss: 0.0452\n",
            "Epoch 107/200\n",
            "12/12 [==============================] - 0s 6ms/step - loss: 0.0448\n",
            "Epoch 108/200\n",
            "12/12 [==============================] - 0s 6ms/step - loss: 0.0430\n",
            "Epoch 109/200\n",
            "12/12 [==============================] - 0s 6ms/step - loss: 0.0452\n",
            "Epoch 110/200\n",
            "12/12 [==============================] - 0s 6ms/step - loss: 0.0446\n",
            "Epoch 111/200\n",
            "12/12 [==============================] - 0s 6ms/step - loss: 0.0430\n",
            "Epoch 112/200\n",
            "12/12 [==============================] - 0s 6ms/step - loss: 0.0435\n",
            "Epoch 113/200\n",
            "12/12 [==============================] - 0s 6ms/step - loss: 0.0430\n",
            "Epoch 114/200\n",
            "12/12 [==============================] - 0s 6ms/step - loss: 0.0447\n",
            "Epoch 115/200\n",
            "12/12 [==============================] - 0s 6ms/step - loss: 0.0425\n",
            "Epoch 116/200\n",
            "12/12 [==============================] - 0s 6ms/step - loss: 0.0457\n",
            "Epoch 117/200\n",
            "12/12 [==============================] - 0s 6ms/step - loss: 0.0430\n",
            "Epoch 118/200\n",
            "12/12 [==============================] - 0s 6ms/step - loss: 0.0447\n",
            "Epoch 119/200\n",
            "12/12 [==============================] - 0s 6ms/step - loss: 0.0457\n",
            "Epoch 120/200\n",
            "12/12 [==============================] - 0s 6ms/step - loss: 0.0424\n",
            "Epoch 121/200\n",
            "12/12 [==============================] - 0s 6ms/step - loss: 0.0403\n",
            "Epoch 122/200\n",
            "12/12 [==============================] - 0s 6ms/step - loss: 0.0432\n",
            "Epoch 123/200\n",
            "12/12 [==============================] - 0s 6ms/step - loss: 0.0431\n",
            "Epoch 124/200\n",
            "12/12 [==============================] - 0s 6ms/step - loss: 0.0447\n",
            "Epoch 125/200\n",
            "12/12 [==============================] - 0s 6ms/step - loss: 0.0416\n",
            "Epoch 126/200\n",
            "12/12 [==============================] - 0s 6ms/step - loss: 0.0450\n",
            "Epoch 127/200\n",
            "12/12 [==============================] - 0s 6ms/step - loss: 0.0437\n",
            "Epoch 128/200\n",
            "12/12 [==============================] - 0s 7ms/step - loss: 0.0452\n",
            "Epoch 129/200\n",
            "12/12 [==============================] - 0s 6ms/step - loss: 0.0439\n",
            "Epoch 130/200\n",
            "12/12 [==============================] - 0s 6ms/step - loss: 0.0449\n",
            "Epoch 131/200\n",
            "12/12 [==============================] - 0s 6ms/step - loss: 0.0444\n",
            "Epoch 132/200\n",
            "12/12 [==============================] - 0s 6ms/step - loss: 0.0415\n",
            "Epoch 133/200\n",
            "12/12 [==============================] - 0s 6ms/step - loss: 0.0432\n",
            "Epoch 134/200\n",
            "12/12 [==============================] - 0s 6ms/step - loss: 0.0438\n",
            "Epoch 135/200\n",
            "12/12 [==============================] - 0s 6ms/step - loss: 0.0426\n",
            "Epoch 136/200\n",
            "12/12 [==============================] - 0s 6ms/step - loss: 0.0435\n",
            "Epoch 137/200\n",
            "12/12 [==============================] - 0s 6ms/step - loss: 0.0417\n",
            "Epoch 138/200\n",
            "12/12 [==============================] - 0s 6ms/step - loss: 0.0446\n",
            "Epoch 139/200\n",
            "12/12 [==============================] - 0s 6ms/step - loss: 0.0428\n",
            "Epoch 140/200\n",
            "12/12 [==============================] - 0s 6ms/step - loss: 0.0428\n",
            "Epoch 141/200\n",
            "12/12 [==============================] - 0s 6ms/step - loss: 0.0438\n",
            "Epoch 142/200\n",
            "12/12 [==============================] - 0s 6ms/step - loss: 0.0433\n",
            "Epoch 143/200\n",
            "12/12 [==============================] - 0s 6ms/step - loss: 0.0452\n",
            "Epoch 144/200\n",
            "12/12 [==============================] - 0s 6ms/step - loss: 0.0420\n",
            "Epoch 145/200\n",
            "12/12 [==============================] - 0s 6ms/step - loss: 0.0413\n",
            "Epoch 146/200\n",
            "12/12 [==============================] - 0s 5ms/step - loss: 0.0436\n",
            "Epoch 147/200\n",
            "12/12 [==============================] - 0s 6ms/step - loss: 0.0451\n",
            "Epoch 148/200\n",
            "12/12 [==============================] - 0s 7ms/step - loss: 0.0440\n",
            "Epoch 149/200\n",
            "12/12 [==============================] - 0s 6ms/step - loss: 0.0439\n",
            "Epoch 150/200\n",
            "12/12 [==============================] - 0s 6ms/step - loss: 0.0433\n",
            "Epoch 151/200\n",
            "12/12 [==============================] - 0s 6ms/step - loss: 0.0427\n",
            "Epoch 152/200\n",
            "12/12 [==============================] - 0s 6ms/step - loss: 0.0425\n",
            "Epoch 153/200\n",
            "12/12 [==============================] - 0s 6ms/step - loss: 0.0419\n",
            "Epoch 154/200\n",
            "12/12 [==============================] - 0s 6ms/step - loss: 0.0437\n",
            "Epoch 155/200\n",
            "12/12 [==============================] - 0s 7ms/step - loss: 0.0440\n",
            "Epoch 156/200\n",
            "12/12 [==============================] - 0s 6ms/step - loss: 0.0419\n",
            "Epoch 157/200\n",
            "12/12 [==============================] - 0s 6ms/step - loss: 0.0451\n",
            "Epoch 158/200\n",
            "12/12 [==============================] - 0s 6ms/step - loss: 0.0454\n",
            "Epoch 159/200\n",
            "12/12 [==============================] - 0s 6ms/step - loss: 0.0465\n",
            "Epoch 160/200\n",
            "12/12 [==============================] - 0s 8ms/step - loss: 0.0440\n",
            "Epoch 161/200\n",
            "12/12 [==============================] - 0s 6ms/step - loss: 0.0431\n",
            "Epoch 162/200\n",
            "12/12 [==============================] - 0s 6ms/step - loss: 0.0411\n",
            "Epoch 163/200\n",
            "12/12 [==============================] - 0s 6ms/step - loss: 0.0444\n",
            "Epoch 164/200\n",
            "12/12 [==============================] - 0s 6ms/step - loss: 0.0424\n",
            "Epoch 165/200\n",
            "12/12 [==============================] - 0s 6ms/step - loss: 0.0414\n",
            "Epoch 166/200\n",
            "12/12 [==============================] - 0s 6ms/step - loss: 0.0418\n",
            "Epoch 167/200\n",
            "12/12 [==============================] - 0s 6ms/step - loss: 0.0445\n",
            "Epoch 168/200\n",
            "12/12 [==============================] - 0s 6ms/step - loss: 0.0447\n",
            "Epoch 169/200\n",
            "12/12 [==============================] - 0s 6ms/step - loss: 0.0436\n",
            "Epoch 170/200\n",
            "12/12 [==============================] - 0s 6ms/step - loss: 0.0444\n",
            "Epoch 171/200\n",
            "12/12 [==============================] - 0s 6ms/step - loss: 0.0436\n",
            "Epoch 172/200\n",
            "12/12 [==============================] - 0s 6ms/step - loss: 0.0416\n",
            "Epoch 173/200\n",
            "12/12 [==============================] - 0s 6ms/step - loss: 0.0425\n",
            "Epoch 174/200\n",
            "12/12 [==============================] - 0s 6ms/step - loss: 0.0429\n",
            "Epoch 175/200\n",
            "12/12 [==============================] - 0s 7ms/step - loss: 0.0448\n",
            "Epoch 176/200\n",
            "12/12 [==============================] - 0s 6ms/step - loss: 0.0433\n",
            "Epoch 177/200\n",
            "12/12 [==============================] - 0s 6ms/step - loss: 0.0424\n",
            "Epoch 178/200\n",
            "12/12 [==============================] - 0s 6ms/step - loss: 0.0423\n",
            "Epoch 179/200\n",
            "12/12 [==============================] - 0s 6ms/step - loss: 0.0441\n",
            "Epoch 180/200\n",
            "12/12 [==============================] - 0s 6ms/step - loss: 0.0439\n",
            "Epoch 181/200\n",
            "12/12 [==============================] - 0s 6ms/step - loss: 0.0444\n",
            "Epoch 182/200\n",
            "12/12 [==============================] - 0s 6ms/step - loss: 0.0439\n",
            "Epoch 183/200\n",
            "12/12 [==============================] - 0s 6ms/step - loss: 0.0444\n",
            "Epoch 184/200\n",
            "12/12 [==============================] - 0s 6ms/step - loss: 0.0425\n",
            "Epoch 185/200\n",
            "12/12 [==============================] - 0s 6ms/step - loss: 0.0442\n",
            "Epoch 186/200\n",
            "12/12 [==============================] - 0s 6ms/step - loss: 0.0463\n",
            "Epoch 187/200\n",
            "12/12 [==============================] - 0s 6ms/step - loss: 0.0417\n",
            "Epoch 188/200\n",
            "12/12 [==============================] - 0s 7ms/step - loss: 0.0416\n",
            "Epoch 189/200\n",
            "12/12 [==============================] - 0s 6ms/step - loss: 0.0423\n",
            "Epoch 190/200\n",
            "12/12 [==============================] - 0s 6ms/step - loss: 0.0434\n",
            "Epoch 191/200\n",
            "12/12 [==============================] - 0s 6ms/step - loss: 0.0422\n",
            "Epoch 192/200\n",
            "12/12 [==============================] - 0s 6ms/step - loss: 0.0424\n",
            "Epoch 193/200\n",
            "12/12 [==============================] - 0s 6ms/step - loss: 0.0429\n",
            "Epoch 194/200\n",
            "12/12 [==============================] - 0s 6ms/step - loss: 0.0446\n",
            "Epoch 195/200\n",
            "12/12 [==============================] - 0s 6ms/step - loss: 0.0423\n",
            "Epoch 196/200\n",
            "12/12 [==============================] - 0s 7ms/step - loss: 0.0435\n",
            "Epoch 197/200\n",
            "12/12 [==============================] - 0s 6ms/step - loss: 0.0432\n",
            "Epoch 198/200\n",
            "12/12 [==============================] - 0s 7ms/step - loss: 0.0447\n",
            "Epoch 199/200\n",
            "12/12 [==============================] - 0s 6ms/step - loss: 0.0421\n",
            "Epoch 200/200\n",
            "12/12 [==============================] - 0s 6ms/step - loss: 0.0452\n"
          ],
          "name": "stdout"
        },
        {
          "output_type": "execute_result",
          "data": {
            "text/plain": [
              "<tensorflow.python.keras.callbacks.History at 0x7f8f502efe10>"
            ]
          },
          "metadata": {
            "tags": []
          },
          "execution_count": 11
        }
      ]
    },
    {
      "cell_type": "code",
      "metadata": {
        "id": "KPrhmAo2KfJb"
      },
      "source": [
        "#Next it's time to analyze the model. First, we normalize the testing \n",
        "#Like we did with the training\n",
        "test = scale.fit_transform(test);\n",
        "X_test = []\n",
        "for i in range (len(test)):\n",
        "  X_test.append(test[i])\n",
        "X_test = np.array(X_test)\n",
        "X_test = np.reshape(X_test, (X_test.shape[0],1,X_test.shape[1]))"
      ],
      "execution_count": 12,
      "outputs": []
    },
    {
      "cell_type": "code",
      "metadata": {
        "id": "HTUEPESxjZCt"
      },
      "source": [
        "#Now we predict the model, taking the inverse of \n",
        "#Both the prediction and test so data is readable.\n",
        "predict = model.predict(X_test)\n",
        "predict = scale.inverse_transform(predict)\n",
        "test = scale.inverse_transform(test)"
      ],
      "execution_count": 13,
      "outputs": []
    },
    {
      "cell_type": "code",
      "metadata": {
        "colab": {
          "base_uri": "https://localhost:8080/",
          "height": 282
        },
        "id": "MRD5DAw_lOqD",
        "outputId": "ef790baf-75f3-4deb-f799-1da64460946e"
      },
      "source": [
        "plt.plot(df.loc[2900:,'Date'],predict, color = \"green\")\n",
        "plt.plot(df.loc[2900:,'Date'],test, color = \"red\")"
      ],
      "execution_count": 14,
      "outputs": [
        {
          "output_type": "execute_result",
          "data": {
            "text/plain": [
              "[<matplotlib.lines.Line2D at 0x7f8f0f4dd910>]"
            ]
          },
          "metadata": {
            "tags": []
          },
          "execution_count": 14
        },
        {
          "output_type": "display_data",
          "data": {
            "image/png": "[encoded data removed]",
            "text/plain": [
              "<Figure size 432x288 with 1 Axes>"
            ]
          },
          "metadata": {
            "tags": [],
            "needs_background": "light"
          }
        }
      ]
    }
  ]
}